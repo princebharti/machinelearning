{
 "cells": [
  {
   "cell_type": "markdown",
   "metadata": {
    "deletable": true,
    "editable": true
   },
   "source": [
    "### The  Five main steps that are involved in training a machine learning algorithm can be summarized as follows:\n",
    "1. Selection of features.\n",
    "2. Choosing a performance metric.\n",
    "3. Choosing a classi er and optimization algorithm.\n",
    "4. Evaluating the performance of the model.\n",
    "5. Tuning the algorithm."
   ]
  },
  {
   "cell_type": "code",
   "execution_count": 50,
   "metadata": {
    "collapsed": false,
    "deletable": true,
    "editable": true
   },
   "outputs": [
    {
     "name": "stdout",
     "output_type": "stream",
     "text": [
      "the predicted accuracy of this model is  94.0 %\n"
     ]
    }
   ],
   "source": [
    "from sklearn.datasets import  load_iris\n",
    "from sklearn.linear_model import  Perceptron\n",
    "from sklearn.preprocessing import StandardScaler\n",
    "from sklearn.metrics import accuracy_score\n",
    "from sklearn.cross_validation import cross_val_score\n",
    " \n",
    "iris=load_iris()\n",
    "X=iris.data\n",
    "y=iris.target\n",
    "scale=StandardScaler()\n",
    "scale.fit(X)\n",
    "X=scale.transform(X)\n",
    "# from sklearn.cross_validation import train_test_split\n",
    "# X_train,X_test,y_train,y_test=train_test_split(X,y,random_state=24,test_size=0.30)\n",
    "cls=Perceptron(n_iter=40,random_state=5)\n",
    "# cls.fit(X_train,y_train)\n",
    "# y_predicted=cls.predict(X_test)\n",
    "# score=accuracy_score(y_predicted,y_test)\n",
    "# print(score)\n",
    "\n",
    "score=cross_val_score(estimator=cls,X=X,y=y,cv=10).mean()  #here using k-fold cross validation and fold=10\n",
    "print('the predicted accuracy of this model is ', (score*100),'%')\n",
    "\n"
   ]
  },
  {
   "cell_type": "code",
   "execution_count": 29,
   "metadata": {
    "collapsed": false,
    "deletable": true,
    "editable": true
   },
   "outputs": [],
   "source": []
  },
  {
   "cell_type": "code",
   "execution_count": null,
   "metadata": {
    "collapsed": true,
    "deletable": true,
    "editable": true
   },
   "outputs": [],
   "source": []
  }
 ],
 "metadata": {
  "kernelspec": {
   "display_name": "Python 3",
   "language": "python",
   "name": "python3"
  },
  "language_info": {
   "codemirror_mode": {
    "name": "ipython",
    "version": 3
   },
   "file_extension": ".py",
   "mimetype": "text/x-python",
   "name": "python",
   "nbconvert_exporter": "python",
   "pygments_lexer": "ipython3",
   "version": "3.5.2"
  }
 },
 "nbformat": 4,
 "nbformat_minor": 2
}
